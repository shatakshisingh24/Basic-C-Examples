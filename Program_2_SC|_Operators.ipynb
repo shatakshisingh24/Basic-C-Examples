{
  "nbformat": 4,
  "nbformat_minor": 0,
  "metadata": {
    "colab": {
      "name": "Program-2 SC| Operators",
      "provenance": [],
      "authorship_tag": "ABX9TyOrGjVxRpccRFvPvOzSkhJ6",
      "include_colab_link": true
    },
    "kernelspec": {
      "name": "python3",
      "display_name": "Python 3"
    }
  },
  "cells": [
    {
      "cell_type": "markdown",
      "metadata": {
        "id": "view-in-github",
        "colab_type": "text"
      },
      "source": [
        "<a href=\"https://colab.research.google.com/github/shatakshisingh24/Basic-C-Examples/blob/master/Program_2_SC%7C_Operators.ipynb\" target=\"_parent\"><img src=\"https://colab.research.google.com/assets/colab-badge.svg\" alt=\"Open In Colab\"/></a>"
      ]
    },
    {
      "cell_type": "markdown",
      "metadata": {
        "id": "8Dsgv0vsA7Z0"
      },
      "source": [
        "# Aim: Write aprogram to implement all operators in python.\n",
        "\n",
        "1.   List item\n",
        "2.   List item\n",
        "\n"
      ]
    },
    {
      "cell_type": "code",
      "metadata": {
        "id": "TX5WUtXc-dqU",
        "outputId": "0072b5a9-59cf-4409-b949-9ca074297cf2",
        "colab": {
          "base_uri": "https://localhost:8080/",
          "height": 51
        }
      },
      "source": [
        "a=8\n",
        "b=10\n",
        "print(a)\n",
        "print(b)"
      ],
      "execution_count": null,
      "outputs": [
        {
          "output_type": "stream",
          "text": [
            "8\n",
            "10\n"
          ],
          "name": "stdout"
        }
      ]
    },
    {
      "cell_type": "markdown",
      "metadata": {
        "id": "1l5oCif2CGrx"
      },
      "source": [
        "Arithmatic Operators"
      ]
    },
    {
      "cell_type": "code",
      "metadata": {
        "id": "j3tl89iRBL8o",
        "outputId": "ea926aa6-b54b-41ed-a522-ae5fb20b6539",
        "colab": {
          "base_uri": "https://localhost:8080/",
          "height": 170
        }
      },
      "source": [
        "add = a+b\n",
        "sub = b-a\n",
        "mult = a*b\n",
        "divfloat = b/a\n",
        "divfloor = b//a\n",
        "mod = b%a\n",
        "\n",
        "print(\" \\n Results \\n\")\n",
        "print(add)\n",
        "print(sub)\n",
        "print(mult)\n",
        "print(divfloat)\n",
        "print(divfloor)\n",
        "print(mod)"
      ],
      "execution_count": null,
      "outputs": [
        {
          "output_type": "stream",
          "text": [
            " \n",
            " Results \n",
            "\n",
            "18\n",
            "2\n",
            "80\n",
            "1.25\n",
            "1\n",
            "2\n"
          ],
          "name": "stdout"
        }
      ]
    },
    {
      "cell_type": "markdown",
      "metadata": {
        "id": "6jIIHDoeCNgw"
      },
      "source": [
        "Relational operators"
      ]
    },
    {
      "cell_type": "code",
      "metadata": {
        "id": "9A4gONU8Bolj",
        "outputId": "74113337-5c90-492d-9ba6-4126be7d433f",
        "colab": {
          "base_uri": "https://localhost:8080/",
          "height": 68
        }
      },
      "source": [
        "a=8\n",
        "b=10\n",
        "print(a)\n",
        "print(b)\n",
        "\n",
        "a>b\n",
        "a<b\n",
        "a==b\n",
        "a!=b\n",
        "a>=b\n",
        "a<=b"
      ],
      "execution_count": null,
      "outputs": [
        {
          "output_type": "stream",
          "text": [
            "8\n",
            "10\n"
          ],
          "name": "stdout"
        },
        {
          "output_type": "execute_result",
          "data": {
            "text/plain": [
              "True"
            ]
          },
          "metadata": {
            "tags": []
          },
          "execution_count": 4
        }
      ]
    },
    {
      "cell_type": "markdown",
      "metadata": {
        "id": "GTHT6494CYu6"
      },
      "source": [
        "Logical operators\n"
      ]
    },
    {
      "cell_type": "code",
      "metadata": {
        "id": "3zyOX9k1Bwfd",
        "outputId": "e9213e49-4483-4fcc-bba4-426ecd30b78b",
        "colab": {
          "base_uri": "https://localhost:8080/",
          "height": 68
        }
      },
      "source": [
        "a=True\n",
        "b=False\n",
        "print(a)\n",
        "print(b)\n",
        "a and b\n",
        "a or b\n",
        "not a"
      ],
      "execution_count": null,
      "outputs": [
        {
          "output_type": "stream",
          "text": [
            "True\n",
            "False\n"
          ],
          "name": "stdout"
        },
        {
          "output_type": "execute_result",
          "data": {
            "text/plain": [
              "False"
            ]
          },
          "metadata": {
            "tags": []
          },
          "execution_count": 6
        }
      ]
    },
    {
      "cell_type": "markdown",
      "metadata": {
        "id": "0jjpY0v0CeKi"
      },
      "source": [
        "Bitwise operators"
      ]
    },
    {
      "cell_type": "code",
      "metadata": {
        "id": "3w90elyQB2gh",
        "outputId": "a01dba10-be22-4ce2-a9c6-3820710ceb9b",
        "colab": {
          "base_uri": "https://localhost:8080/",
          "height": 153
        }
      },
      "source": [
        "a=8\n",
        "b=10\n",
        "print(a)\n",
        "print(b)\n",
        "print(a & b)\n",
        "print(a | b)\n",
        "print(~a)\n",
        "print(a ^ b)\n",
        "print(a >> 2)\n",
        "print(a << 2)"
      ],
      "execution_count": null,
      "outputs": [
        {
          "output_type": "stream",
          "text": [
            "8\n",
            "10\n",
            "8\n",
            "10\n",
            "-9\n",
            "2\n",
            "2\n",
            "32\n"
          ],
          "name": "stdout"
        }
      ]
    },
    {
      "cell_type": "code",
      "metadata": {
        "id": "krT9YzG7B7fp"
      },
      "source": [
        ""
      ],
      "execution_count": null,
      "outputs": []
    }
  ]
}